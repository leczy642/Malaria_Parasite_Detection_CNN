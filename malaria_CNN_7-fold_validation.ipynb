{
 "cells": [
  {
   "cell_type": "code",
   "execution_count": 1,
   "id": "b96bc9c3",
   "metadata": {},
   "outputs": [],
   "source": [
    "import numpy as np\n",
    "import tensorflow as tf\n",
    "from tensorflow.keras import Sequential\n",
    "from tensorflow.keras.layers import Flatten, Dense, Conv2D, MaxPool2D, Dropout\n",
    "from tensorflow.keras.preprocessing.image import ImageDataGenerator\n",
    "from sklearn.model_selection import KFold\n",
    "from sklearn.metrics import accuracy_score, classification_report"
   ]
  },
  {
   "cell_type": "code",
   "execution_count": 2,
   "id": "2ef04117",
   "metadata": {},
   "outputs": [],
   "source": [
    "# Set parameters\n",
    "img_width, img_height = 64, 64\n",
    "batch_size = 16\n",
    "num_folds = 7  # K in K-Fold"
   ]
  },
  {
   "cell_type": "code",
   "execution_count": 3,
   "id": "0404a43e",
   "metadata": {},
   "outputs": [
    {
     "name": "stdout",
     "output_type": "stream",
     "text": [
      "Found 27558 images belonging to 2 classes.\n"
     ]
    }
   ],
   "source": [
    "# Load dataset\n",
    "datagen = ImageDataGenerator(rescale=1/255.0)\n",
    "data_generator = datagen.flow_from_directory(directory='malaria_dataset_2',\n",
    "                                             target_size=(img_width, img_height),\n",
    "                                             class_mode='binary',\n",
    "                                             batch_size=batch_size,\n",
    "                                             shuffle=True)\n"
   ]
  },
  {
   "cell_type": "code",
   "execution_count": 4,
   "id": "89a0c2d1",
   "metadata": {},
   "outputs": [],
   "source": [
    "# Get image paths and labels\n",
    "X, y = [], []\n",
    "for i in range(len(data_generator)):\n",
    "    batch_x, batch_y = data_generator.next()\n",
    "    X.extend(batch_x)\n",
    "    y.extend(batch_y)\n"
   ]
  },
  {
   "cell_type": "code",
   "execution_count": 5,
   "id": "778eff0f",
   "metadata": {},
   "outputs": [],
   "source": [
    "X = np.array(X)\n",
    "y = np.array(y)"
   ]
  },
  {
   "cell_type": "code",
   "execution_count": 6,
   "id": "07b287c5",
   "metadata": {},
   "outputs": [],
   "source": [
    "# Initialize K-Fold\n",
    "kf = KFold(n_splits=num_folds, shuffle=True, random_state=42)"
   ]
  },
  {
   "cell_type": "code",
   "execution_count": 7,
   "id": "421fe9d8",
   "metadata": {},
   "outputs": [],
   "source": [
    "fold_results = []"
   ]
  },
  {
   "cell_type": "code",
   "execution_count": 8,
   "id": "958e03f9",
   "metadata": {},
   "outputs": [
    {
     "name": "stdout",
     "output_type": "stream",
     "text": [
      "\n",
      "Training on Fold 1/7...\n",
      "\n",
      "Training on Fold 2/7...\n",
      "\n",
      "Training on Fold 3/7...\n",
      "\n",
      "Training on Fold 4/7...\n",
      "\n",
      "Training on Fold 5/7...\n",
      "\n",
      "Training on Fold 6/7...\n",
      "\n",
      "Training on Fold 7/7...\n"
     ]
    }
   ],
   "source": [
    "for fold, (train_idx, val_idx) in enumerate(kf.split(X)):\n",
    "    print(f\"\\nTraining on Fold {fold+1}/{num_folds}...\")\n"
   ]
  },
  {
   "cell_type": "code",
   "execution_count": 9,
   "id": "601a7d4a",
   "metadata": {},
   "outputs": [
    {
     "name": "stdout",
     "output_type": "stream",
     "text": [
      "\n",
      "Training on Fold 1/7...\n",
      "\n",
      "Training on Fold 2/7...\n",
      "\n",
      "Training on Fold 3/7...\n",
      "\n",
      "Training on Fold 4/7...\n",
      "\n",
      "Training on Fold 5/7...\n",
      "\n",
      "Training on Fold 6/7...\n",
      "\n",
      "Training on Fold 7/7...\n"
     ]
    }
   ],
   "source": [
    "for fold, (train_idx, val_idx) in enumerate(kf.split(X)):\n",
    "    print(f\"\\nTraining on Fold {fold+1}/{num_folds}...\")\n",
    "\n",
    "    # Split data\n",
    "    X_train, X_val = X[train_idx], X[val_idx]\n",
    "    y_train, y_val = y[train_idx], y[val_idx]"
   ]
  },
  {
   "cell_type": "code",
   "execution_count": 10,
   "id": "cedc887f",
   "metadata": {},
   "outputs": [
    {
     "name": "stderr",
     "output_type": "stream",
     "text": [
      "2025-07-04 07:11:32.811888: I tensorflow/core/common_runtime/pluggable_device/pluggable_device_factory.cc:305] Could not identify NUMA node of platform GPU ID 0, defaulting to 0. Your kernel may not have been built with NUMA support.\n",
      "2025-07-04 07:11:32.813426: I tensorflow/core/common_runtime/pluggable_device/pluggable_device_factory.cc:271] Created TensorFlow device (/job:localhost/replica:0/task:0/device:GPU:0 with 0 MB memory) -> physical PluggableDevice (device: 0, name: METAL, pci bus id: <undefined>)\n"
     ]
    },
    {
     "name": "stdout",
     "output_type": "stream",
     "text": [
      "Metal device set to: Apple M1\n"
     ]
    }
   ],
   "source": [
    "model = Sequential([\n",
    "        Conv2D(16, (3,3), input_shape=(img_width, img_height, 3), activation='relu'),\n",
    "        MaxPool2D(2,2),\n",
    "        Dropout(0.2),\n",
    "\n",
    "        Conv2D(32, (3,3), activation='relu'),\n",
    "        MaxPool2D(2,2),\n",
    "        Dropout(0.3),\n",
    "\n",
    "        Flatten(),\n",
    "        Dense(64, activation='relu'),\n",
    "        Dropout(0.5),\n",
    "        Dense(1, activation='sigmoid')\n",
    "    ])"
   ]
  },
  {
   "cell_type": "code",
   "execution_count": 11,
   "id": "43fda503",
   "metadata": {},
   "outputs": [
    {
     "name": "stdout",
     "output_type": "stream",
     "text": [
      "Model: \"sequential\"\n",
      "_________________________________________________________________\n",
      " Layer (type)                Output Shape              Param #   \n",
      "=================================================================\n",
      " conv2d (Conv2D)             (None, 62, 62, 16)        448       \n",
      "                                                                 \n",
      " max_pooling2d (MaxPooling2D  (None, 31, 31, 16)       0         \n",
      " )                                                               \n",
      "                                                                 \n",
      " dropout (Dropout)           (None, 31, 31, 16)        0         \n",
      "                                                                 \n",
      " conv2d_1 (Conv2D)           (None, 29, 29, 32)        4640      \n",
      "                                                                 \n",
      " max_pooling2d_1 (MaxPooling  (None, 14, 14, 32)       0         \n",
      " 2D)                                                             \n",
      "                                                                 \n",
      " dropout_1 (Dropout)         (None, 14, 14, 32)        0         \n",
      "                                                                 \n",
      " flatten (Flatten)           (None, 6272)              0         \n",
      "                                                                 \n",
      " dense (Dense)               (None, 64)                401472    \n",
      "                                                                 \n",
      " dropout_2 (Dropout)         (None, 64)                0         \n",
      "                                                                 \n",
      " dense_1 (Dense)             (None, 1)                 65        \n",
      "                                                                 \n",
      "=================================================================\n",
      "Total params: 406,625\n",
      "Trainable params: 406,625\n",
      "Non-trainable params: 0\n",
      "_________________________________________________________________\n"
     ]
    }
   ],
   "source": [
    "model.summary()"
   ]
  },
  {
   "cell_type": "code",
   "execution_count": 12,
   "id": "76c5ca81",
   "metadata": {},
   "outputs": [],
   "source": [
    "# Compile the model\n",
    "model.compile(optimizer='adam', loss='binary_crossentropy', metrics = ['accuracy'])"
   ]
  },
  {
   "cell_type": "code",
   "execution_count": 13,
   "id": "4b62713b",
   "metadata": {},
   "outputs": [
    {
     "name": "stdout",
     "output_type": "stream",
     "text": [
      "Epoch 1/5\n"
     ]
    },
    {
     "name": "stderr",
     "output_type": "stream",
     "text": [
      "2025-07-04 07:11:44.862450: W tensorflow/core/platform/profile_utils/cpu_utils.cc:128] Failed to get CPU frequency: 0 Hz\n",
      "2025-07-04 07:11:45.575434: I tensorflow/core/grappler/optimizers/custom_graph_optimizer_registry.cc:113] Plugin optimizer for device_type GPU is enabled.\n"
     ]
    },
    {
     "name": "stdout",
     "output_type": "stream",
     "text": [
      "1477/1477 [==============================] - ETA: 0s - loss: 0.6248 - accuracy: 0.6342"
     ]
    },
    {
     "name": "stderr",
     "output_type": "stream",
     "text": [
      "2025-07-04 07:12:04.290000: I tensorflow/core/grappler/optimizers/custom_graph_optimizer_registry.cc:113] Plugin optimizer for device_type GPU is enabled.\n"
     ]
    },
    {
     "name": "stdout",
     "output_type": "stream",
     "text": [
      "1477/1477 [==============================] - 20s 12ms/step - loss: 0.6248 - accuracy: 0.6342 - val_loss: 0.3657 - val_accuracy: 0.8847\n",
      "Epoch 2/5\n",
      "1477/1477 [==============================] - 16s 11ms/step - loss: 0.2532 - accuracy: 0.9152 - val_loss: 0.2113 - val_accuracy: 0.9271\n",
      "Epoch 3/5\n",
      "1477/1477 [==============================] - 16s 11ms/step - loss: 0.2108 - accuracy: 0.9222 - val_loss: 0.1875 - val_accuracy: 0.9405\n",
      "Epoch 4/5\n",
      "1477/1477 [==============================] - 16s 11ms/step - loss: 0.1835 - accuracy: 0.9377 - val_loss: 0.1619 - val_accuracy: 0.9439\n",
      "Epoch 5/5\n",
      "1477/1477 [==============================] - 16s 11ms/step - loss: 0.1640 - accuracy: 0.9443 - val_loss: 0.1564 - val_accuracy: 0.9487\n"
     ]
    },
    {
     "data": {
      "text/plain": [
       "<keras.callbacks.History at 0x15f80d870>"
      ]
     },
     "execution_count": 13,
     "metadata": {},
     "output_type": "execute_result"
    }
   ],
   "source": [
    "# Train model\n",
    "model.fit(X_train, y_train, epochs=5, batch_size=batch_size, validation_data=(X_val, y_val), verbose=1)"
   ]
  },
  {
   "cell_type": "code",
   "execution_count": 14,
   "id": "dcff5f2f",
   "metadata": {},
   "outputs": [
    {
     "name": "stdout",
     "output_type": "stream",
     "text": [
      " 12/123 [=>............................] - ETA: 0s "
     ]
    },
    {
     "name": "stderr",
     "output_type": "stream",
     "text": [
      "2025-07-04 07:13:17.768023: I tensorflow/core/grappler/optimizers/custom_graph_optimizer_registry.cc:113] Plugin optimizer for device_type GPU is enabled.\n"
     ]
    },
    {
     "name": "stdout",
     "output_type": "stream",
     "text": [
      "123/123 [==============================] - 1s 4ms/step\n",
      "Fold 7 Accuracy: 0.95\n",
      "              precision    recall  f1-score   support\n",
      "\n",
      "         0.0       0.96      0.94      0.95      1997\n",
      "         1.0       0.94      0.96      0.95      1939\n",
      "\n",
      "    accuracy                           0.95      3936\n",
      "   macro avg       0.95      0.95      0.95      3936\n",
      "weighted avg       0.95      0.95      0.95      3936\n",
      "\n"
     ]
    }
   ],
   "source": [
    " # Evaluate model\n",
    "y_pred_probs = model.predict(X_val)\n",
    "y_pred = (y_pred_probs > 0.5).astype(int)\n",
    "\n",
    "accuracy = accuracy_score(y_val, y_pred)\n",
    "fold_results.append(accuracy)\n",
    "    \n",
    "print(f\"Fold {fold+1} Accuracy: {accuracy:.2f}\")\n",
    "print(classification_report(y_val, y_pred))"
   ]
  },
  {
   "cell_type": "code",
   "execution_count": 15,
   "id": "6529cbb1",
   "metadata": {},
   "outputs": [
    {
     "name": "stdout",
     "output_type": "stream",
     "text": [
      "\n",
      "Mean Accuracy over 7 folds: 0.95\n"
     ]
    }
   ],
   "source": [
    "# Final cross-validation accuracy\n",
    "print(f\"\\nMean Accuracy over {num_folds} folds: {np.mean(fold_results):.2f}\")"
   ]
  },
  {
   "cell_type": "code",
   "execution_count": null,
   "id": "ec350d50",
   "metadata": {},
   "outputs": [],
   "source": []
  }
 ],
 "metadata": {
  "kernelspec": {
   "display_name": "Python 3.10 (tensorflow)",
   "language": "python",
   "name": "tensorflow"
  },
  "language_info": {
   "codemirror_mode": {
    "name": "ipython",
    "version": 3
   },
   "file_extension": ".py",
   "mimetype": "text/x-python",
   "name": "python",
   "nbconvert_exporter": "python",
   "pygments_lexer": "ipython3",
   "version": "3.10.9"
  }
 },
 "nbformat": 4,
 "nbformat_minor": 5
}
